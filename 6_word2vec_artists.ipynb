{
 "cells": [
  {
   "cell_type": "code",
   "execution_count": 1,
   "metadata": {
    "collapsed": true
   },
   "outputs": [],
   "source": [
    "import csv\n",
    "import pandas as pd\n",
    "import gensim\n",
    "import os\n",
    "import numpy as np\n",
    "import sys\n",
    "from tqdm import tqdm_notebook\n",
    "import json\n",
    "from gensim.models import Word2Vec\n",
    "import time\n",
    "from sklearn.manifold import TSNE\n",
    "from matplotlib import pyplot as plt\n",
    "from glob import glob\n",
    "import random\n",
    "\n"
   ]
  },
  {
   "cell_type": "code",
   "execution_count": 2,
   "metadata": {},
   "outputs": [
    {
     "ename": "FileNotFoundError",
     "evalue": "[Errno 2] No such file or directory: 'mpd_playlist_track_seq//artists_sentences_pid_unique.txt'",
     "output_type": "error",
     "traceback": [
      "\u001b[0;31m---------------------------------------------------------------------------\u001b[0m",
      "\u001b[0;31mFileNotFoundError\u001b[0m                         Traceback (most recent call last)",
      "\u001b[0;32m<ipython-input-2-c036e36ba273>\u001b[0m in \u001b[0;36m<module>\u001b[0;34m()\u001b[0m\n\u001b[1;32m      1\u001b[0m \u001b[0mmpd_sequence_path\u001b[0m \u001b[0;34m=\u001b[0m \u001b[0;34m'mpd_playlist_track_seq/'\u001b[0m \u001b[0;31m#DEFINE YOUR PATH TO OUTPUT PLAYLIST TRACK ID sequences\u001b[0m\u001b[0;34m\u001b[0m\u001b[0m\n\u001b[0;32m----> 2\u001b[0;31m \u001b[0msentences\u001b[0m \u001b[0;34m=\u001b[0m \u001b[0;34m[\u001b[0m\u001b[0mp\u001b[0m\u001b[0;34m.\u001b[0m\u001b[0msplit\u001b[0m\u001b[0;34m(\u001b[0m\u001b[0;34m)\u001b[0m \u001b[0;32mfor\u001b[0m \u001b[0mp\u001b[0m \u001b[0;32min\u001b[0m \u001b[0mopen\u001b[0m\u001b[0;34m(\u001b[0m\u001b[0mmpd_sequence_path\u001b[0m \u001b[0;34m+\u001b[0m \u001b[0;34m\"/artists_sentences_pid_unique.txt\"\u001b[0m\u001b[0;34m)\u001b[0m\u001b[0;34m.\u001b[0m\u001b[0mread\u001b[0m\u001b[0;34m(\u001b[0m\u001b[0;34m)\u001b[0m\u001b[0;34m.\u001b[0m\u001b[0msplitlines\u001b[0m\u001b[0;34m(\u001b[0m\u001b[0;34m)\u001b[0m\u001b[0;34m]\u001b[0m\u001b[0;34m\u001b[0m\u001b[0m\n\u001b[0m",
      "\u001b[0;31mFileNotFoundError\u001b[0m: [Errno 2] No such file or directory: 'mpd_playlist_track_seq//artists_sentences_pid_unique.txt'"
     ]
    }
   ],
   "source": [
    "mpd_sequence_path = 'mpd_playlist_track_seq/' #DEFINE YOUR PATH TO OUTPUT PLAYLIST TRACK ID sequences\n",
    "sentences = [p.split() for p in open(mpd_sequence_path + \"/artists_sentences_pid_unique.txt\").read().splitlines()]"
   ]
  },
  {
   "cell_type": "code",
   "execution_count": null,
   "metadata": {},
   "outputs": [],
   "source": [
    "# uncomment if you want to load a previous model \n",
    "\"\"\"\n",
    "MODEL_SIZE = 100\n",
    "EPOCHS = 1\n",
    "WINDOW = 5 \n",
    "MIN_COUNT = 2\n",
    "lr = 30\n",
    "name = \"wv_model_artists_unique_size\"+str(MODEL_SIZE)+\"_MPD\"\n",
    "model = Word2Vec.load(\"models/wv_model_artists_unique_size100_MPD\")\n",
    "\"\"\""
   ]
  },
  {
   "cell_type": "code",
   "execution_count": null,
   "metadata": {
    "collapsed": true
   },
   "outputs": [],
   "source": [
    "# train \n",
    "print(\"training..\")\n",
    "for iter in range(10000):# train\n",
    "        \n",
    "    model.train(sentences, total_examples=model.corpus_count, epochs=EPOCHS,compute_loss=True)\n",
    "    [random.shuffle(l) for l in sentences]\n",
    "        \n",
    "    if(iter%10==0 and iter>0):\n",
    "        print(\"saving...\")\n",
    "        model.save(\"models/\"+name)\n",
    "        print(name+\" saved \") \n",
    "        \n",
    "    print(model.get_latest_training_loss(),lr)"
   ]
  },
  {
   "cell_type": "code",
   "execution_count": null,
   "metadata": {
    "collapsed": true
   },
   "outputs": [],
   "source": []
  }
 ],
 "metadata": {
  "kernelspec": {
   "display_name": "Python 3",
   "language": "python",
   "name": "python3"
  },
  "language_info": {
   "codemirror_mode": {
    "name": "ipython",
    "version": 3
   },
   "file_extension": ".py",
   "mimetype": "text/x-python",
   "name": "python",
   "nbconvert_exporter": "python",
   "pygments_lexer": "ipython3",
   "version": "3.6.1"
  }
 },
 "nbformat": 4,
 "nbformat_minor": 2
}
