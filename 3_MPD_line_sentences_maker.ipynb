{
 "cells": [
  {
   "cell_type": "markdown",
   "metadata": {},
   "source": [
    "# Clean data slices with playists by ID\n",
    "* [tracks...] : creates a file with less information than the original one specifically, a csv file containing all the playlists each line will be the ID tracks of one playlist \n",
    "* normalized_title:[tracks..] dictionary with track ids, where the key is the id of the normalized title\n",
    "* [normalized_playlists...] creates a new csv file containing, for each track, a list of all the playlist pids it appears in. \n"
   ]
  },
  {
   "cell_type": "code",
   "execution_count": 1,
   "metadata": {
    "collapsed": true
   },
   "outputs": [],
   "source": [
    "import csv\n",
    "import pandas as pd\n",
    "import gensim\n",
    "import os\n",
    "import numpy as np\n",
    "import sys\n",
    "from tqdm import tqdm_notebook\n",
    "import json\n",
    "from gensim.models import Word2Vec\n",
    "import time\n",
    "import re\n",
    "from whoosh.analysis import CharsetFilter, StemmingAnalyzer\n",
    "from whoosh import fields\n",
    "from whoosh.support.charset import accent_map\n",
    "import pickle\n",
    "from string import ascii_letters\n",
    "from utils import normalize_name\n",
    "\n",
    "mpd_path = '../../MPD/data/' #DEFINE YOUR PATH\n",
    "mpd_sequence_path = 'mpd_playlist_track_seq/' #DEFINE YOUR PATH TO OUTPUT PLAYLIST TRACK ID sequences\n",
    "\n",
    "quick = False\n",
    "max_files_for_quick_processing = 2"
   ]
  },
  {
   "cell_type": "markdown",
   "metadata": {},
   "source": [
    "## tracks"
   ]
  },
  {
   "cell_type": "code",
   "execution_count": 6,
   "metadata": {},
   "outputs": [
    {
     "name": "stderr",
     "output_type": "stream",
     "text": [
      "Widget Javascript not detected.  It may not be installed or enabled properly.\n"
     ]
    },
    {
     "data": {
      "application/vnd.jupyter.widget-view+json": {
       "model_id": "ece424c960534b1c975fdb900e1d4b91"
      }
     },
     "metadata": {},
     "output_type": "display_data"
    },
    {
     "name": "stdout",
     "output_type": "stream",
     "text": [
      "\n"
     ]
    }
   ],
   "source": [
    "size_slices = 1000 \n",
    "#csv to dict\n",
    "reader = csv.reader(open('dictionaries/dict_sorted_trackuri_id.csv', 'r'))\n",
    "dict_trackuri_ids = {k:v for (k,v) in reader}\n",
    "slices_playlists = []\n",
    "\n",
    "def process_mpd(path):\n",
    "    count = 0 # slices counter   \n",
    "    filenames = os.listdir(path)\n",
    "    \n",
    "    #for each slice\n",
    "    for filename in tqdm_notebook(sorted(filenames)):\n",
    "        #read slice\n",
    "        if filename.startswith(\"mpd.slice.\") and filename.endswith(\".json\"):\n",
    "            fullpath = os.sep.join((path, filename))\n",
    "            f = open(fullpath)\n",
    "            js = f.read()\n",
    "            f.close()\n",
    "            mpd_slice = json.loads(js)\n",
    "\n",
    "            #process slice and write a csv\n",
    "            process_slice(mpd_slice)\n",
    "            count += 1\n",
    "            if count%size_slices==0:\n",
    "                write_file(int(count/size_slices))\n",
    "                slices_playlists.clear()\n",
    "                \n",
    "            \n",
    "\n",
    "        if quick and count > max_files_for_quick_processing:\n",
    "            break\n",
    "                \n",
    "            \n",
    "def process_slice(mpd_slice):\n",
    "    for playlist in mpd_slice['playlists']:\n",
    "        slices_playlists.append([dict_trackuri_ids[track[\"track_uri\"]] for track in playlist[\"tracks\"]])\n",
    "       \n",
    "    \n",
    "def write_file(count):  \n",
    "    if not os.path.exists(mpd_sequence_path):\n",
    "        os.makedirs(mpd_sequence_path)\n",
    "    with open(mpd_sequence_path + \"/tracks_sentences_id.txt\", \n",
    "              'w', newline='',encoding=\"utf-8\")as csvfile:\n",
    "        spamwriter = csv.writer(csvfile, delimiter=' ', quoting=csv.QUOTE_MINIMAL)\n",
    "        for playlist in slices_playlists:\n",
    "            spamwriter.writerow(playlist)       \n",
    "\n",
    "\n",
    "\n",
    "process_mpd(mpd_path)\n"
   ]
  },
  {
   "cell_type": "markdown",
   "metadata": {},
   "source": [
    "## tracks and title"
   ]
  },
  {
   "cell_type": "code",
   "execution_count": 7,
   "metadata": {},
   "outputs": [
    {
     "ename": "FileNotFoundError",
     "evalue": "[Errno 2] No such file or directory: 'dictionaries/dict_id_ntitle_final.csv'",
     "output_type": "error",
     "traceback": [
      "\u001b[0;31m---------------------------------------------------------------------------\u001b[0m",
      "\u001b[0;31mFileNotFoundError\u001b[0m                         Traceback (most recent call last)",
      "\u001b[0;32m<ipython-input-7-1c7881208b68>\u001b[0m in \u001b[0;36m<module>\u001b[0;34m()\u001b[0m\n\u001b[1;32m      5\u001b[0m \u001b[0mreader\u001b[0m \u001b[0;34m=\u001b[0m \u001b[0mcsv\u001b[0m\u001b[0;34m.\u001b[0m\u001b[0mreader\u001b[0m\u001b[0;34m(\u001b[0m\u001b[0mopen\u001b[0m\u001b[0;34m(\u001b[0m\u001b[0;34m'dictionaries/dict_sorted_trackuri_id.csv'\u001b[0m\u001b[0;34m,\u001b[0m \u001b[0;34m'r'\u001b[0m\u001b[0;34m)\u001b[0m\u001b[0;34m)\u001b[0m\u001b[0;34m\u001b[0m\u001b[0m\n\u001b[1;32m      6\u001b[0m \u001b[0mdict_trackuri_ids\u001b[0m \u001b[0;34m=\u001b[0m \u001b[0;34m{\u001b[0m\u001b[0mk\u001b[0m\u001b[0;34m:\u001b[0m\u001b[0mv\u001b[0m \u001b[0;32mfor\u001b[0m \u001b[0;34m(\u001b[0m\u001b[0mk\u001b[0m\u001b[0;34m,\u001b[0m\u001b[0mv\u001b[0m\u001b[0;34m)\u001b[0m \u001b[0;32min\u001b[0m \u001b[0mreader\u001b[0m\u001b[0;34m}\u001b[0m\u001b[0;34m\u001b[0m\u001b[0m\n\u001b[0;32m----> 7\u001b[0;31m \u001b[0mreader\u001b[0m \u001b[0;34m=\u001b[0m \u001b[0mcsv\u001b[0m\u001b[0;34m.\u001b[0m\u001b[0mreader\u001b[0m\u001b[0;34m(\u001b[0m\u001b[0mopen\u001b[0m\u001b[0;34m(\u001b[0m\u001b[0;34m'dictionaries/dict_id_ntitle_final.csv'\u001b[0m\u001b[0;34m,\u001b[0m \u001b[0;34m'r'\u001b[0m\u001b[0;34m,\u001b[0m\u001b[0mencoding\u001b[0m\u001b[0;34m=\u001b[0m\u001b[0;34m\"utf-8\"\u001b[0m\u001b[0;34m)\u001b[0m\u001b[0;34m)\u001b[0m\u001b[0;34m\u001b[0m\u001b[0m\n\u001b[0m\u001b[1;32m      8\u001b[0m \u001b[0mdict_ntitle_id\u001b[0m \u001b[0;34m=\u001b[0m \u001b[0;34m{\u001b[0m\u001b[0mv\u001b[0m\u001b[0;34m:\u001b[0m\u001b[0mk\u001b[0m \u001b[0;32mfor\u001b[0m \u001b[0;34m(\u001b[0m\u001b[0mk\u001b[0m\u001b[0;34m,\u001b[0m\u001b[0mv\u001b[0m\u001b[0;34m)\u001b[0m \u001b[0;32min\u001b[0m \u001b[0mreader\u001b[0m\u001b[0;34m}\u001b[0m\u001b[0;34m\u001b[0m\u001b[0m\n\u001b[1;32m      9\u001b[0m \u001b[0mslices_playlists\u001b[0m \u001b[0;34m=\u001b[0m \u001b[0;34m[\u001b[0m\u001b[0;34m]\u001b[0m\u001b[0;34m\u001b[0m\u001b[0m\n",
      "\u001b[0;31mFileNotFoundError\u001b[0m: [Errno 2] No such file or directory: 'dictionaries/dict_id_ntitle_final.csv'"
     ]
    }
   ],
   "source": [
    "size_slices = 1000 \n",
    "#csv to dict\n",
    "reader = csv.reader(open('dictionaries/dict_sorted_trackuri_id.csv', 'r'))\n",
    "dict_trackuri_ids = {k:v for (k,v) in reader}\n",
    "reader = csv.reader(open('dictionaries/dict_id_ntitle_final.csv', 'r',encoding=\"utf-8\"))\n",
    "dict_ntitle_id = {v:k for (k,v) in reader}\n",
    "slices_playlists = []\n",
    "\n",
    "def process_mpd(path):\n",
    "    count = 0 # slices counter   \n",
    "    filenames = os.listdir(path)\n",
    "    \n",
    "    #for each slice\n",
    "    for filename in tqdm_notebook(sorted(filenames)):\n",
    "        #read slice\n",
    "        if filename.startswith(\"mpd.slice.\") and filename.endswith(\".json\"):\n",
    "            fullpath = os.sep.join((path, filename))\n",
    "            f = open(fullpath)\n",
    "            js = f.read()\n",
    "            f.close()\n",
    "            mpd_slice = json.loads(js)\n",
    "\n",
    "            process_slice(mpd_slice)\n",
    "            count += 1   \n",
    "                           \n",
    "\n",
    "        if quick and count > max_files_for_quick_processing:\n",
    "            break\n",
    "            \n",
    "    write_file()\n",
    "    slices_playlists.clear()\n",
    "                \n",
    "            \n",
    "def process_slice(mpd_slice):\n",
    "    for playlist in mpd_slice['playlists']:\n",
    "        slices_playlists.append((dict_ntitle_id[normalize_name(playlist[\"name\"])], \n",
    "                                  [dict_trackuri_ids[track[\"track_uri\"]] for track in playlist[\"tracks\"]]))\n",
    "       \n",
    "    \n",
    "def write_file():  \n",
    "    if not os.path.exists(mpd_sequence_path):\n",
    "        os.makedirs(mpd_sequence_path)\n",
    "    with open(mpd_sequence_path + '/playlists_ntitle_tracks_sentences_id_final', 'wb') as fp:\n",
    "        pickle.dump(slices_playlists, fp)\n",
    "\n",
    "\n",
    "process_mpd(mdp_path)"
   ]
  },
  {
   "cell_type": "markdown",
   "metadata": {},
   "source": [
    "## Normalized playlists"
   ]
  },
  {
   "cell_type": "code",
   "execution_count": 5,
   "metadata": {},
   "outputs": [
    {
     "ename": "FileNotFoundError",
     "evalue": "[Errno 2] No such file or directory: 'dictionaries/dict_id_ntitle_final.csv'",
     "output_type": "error",
     "traceback": [
      "\u001b[0;31m---------------------------------------------------------------------------\u001b[0m",
      "\u001b[0;31mFileNotFoundError\u001b[0m                         Traceback (most recent call last)",
      "\u001b[0;32m<ipython-input-5-69107798f89d>\u001b[0m in \u001b[0;36m<module>\u001b[0;34m()\u001b[0m\n\u001b[1;32m      5\u001b[0m \u001b[0mreader\u001b[0m \u001b[0;34m=\u001b[0m \u001b[0mcsv\u001b[0m\u001b[0;34m.\u001b[0m\u001b[0mreader\u001b[0m\u001b[0;34m(\u001b[0m\u001b[0mopen\u001b[0m\u001b[0;34m(\u001b[0m\u001b[0;34m'dictionaries/dict_sorted_trackuri_id.csv'\u001b[0m\u001b[0;34m,\u001b[0m \u001b[0;34m'r'\u001b[0m\u001b[0;34m)\u001b[0m\u001b[0;34m)\u001b[0m\u001b[0;34m\u001b[0m\u001b[0m\n\u001b[1;32m      6\u001b[0m \u001b[0mdict_trackuri_ids\u001b[0m \u001b[0;34m=\u001b[0m \u001b[0;34m{\u001b[0m\u001b[0mk\u001b[0m\u001b[0;34m:\u001b[0m\u001b[0mv\u001b[0m \u001b[0;32mfor\u001b[0m \u001b[0;34m(\u001b[0m\u001b[0mk\u001b[0m\u001b[0;34m,\u001b[0m\u001b[0mv\u001b[0m\u001b[0;34m)\u001b[0m \u001b[0;32min\u001b[0m \u001b[0mreader\u001b[0m\u001b[0;34m}\u001b[0m\u001b[0;34m\u001b[0m\u001b[0m\n\u001b[0;32m----> 7\u001b[0;31m \u001b[0mreader\u001b[0m \u001b[0;34m=\u001b[0m \u001b[0mcsv\u001b[0m\u001b[0;34m.\u001b[0m\u001b[0mreader\u001b[0m\u001b[0;34m(\u001b[0m\u001b[0mopen\u001b[0m\u001b[0;34m(\u001b[0m\u001b[0;34m'dictionaries/dict_id_ntitle_final.csv'\u001b[0m\u001b[0;34m,\u001b[0m \u001b[0;34m'r'\u001b[0m\u001b[0;34m,\u001b[0m\u001b[0mencoding\u001b[0m\u001b[0;34m=\u001b[0m\u001b[0;34m\"utf-8\"\u001b[0m\u001b[0;34m)\u001b[0m\u001b[0;34m)\u001b[0m\u001b[0;34m\u001b[0m\u001b[0m\n\u001b[0m\u001b[1;32m      8\u001b[0m \u001b[0mdict_ntitle_id\u001b[0m \u001b[0;34m=\u001b[0m \u001b[0;34m{\u001b[0m\u001b[0mv\u001b[0m\u001b[0;34m:\u001b[0m\u001b[0mk\u001b[0m \u001b[0;32mfor\u001b[0m \u001b[0;34m(\u001b[0m\u001b[0mk\u001b[0m\u001b[0;34m,\u001b[0m\u001b[0mv\u001b[0m\u001b[0;34m)\u001b[0m \u001b[0;32min\u001b[0m \u001b[0mreader\u001b[0m\u001b[0;34m}\u001b[0m\u001b[0;34m\u001b[0m\u001b[0m\n\u001b[1;32m      9\u001b[0m \u001b[0mreader\u001b[0m \u001b[0;34m=\u001b[0m \u001b[0mcsv\u001b[0m\u001b[0;34m.\u001b[0m\u001b[0mreader\u001b[0m\u001b[0;34m(\u001b[0m\u001b[0mopen\u001b[0m\u001b[0;34m(\u001b[0m\u001b[0;34m'dictionaries/dict_id_ntitle_final.csv'\u001b[0m\u001b[0;34m,\u001b[0m \u001b[0;34m'r'\u001b[0m\u001b[0;34m,\u001b[0m\u001b[0mencoding\u001b[0m\u001b[0;34m=\u001b[0m\u001b[0;34m\"utf-8\"\u001b[0m\u001b[0;34m)\u001b[0m\u001b[0;34m)\u001b[0m\u001b[0;34m\u001b[0m\u001b[0m\n",
      "\u001b[0;31mFileNotFoundError\u001b[0m: [Errno 2] No such file or directory: 'dictionaries/dict_id_ntitle_final.csv'"
     ]
    }
   ],
   "source": [
    "size_slices = 50 \n",
    "#csv to dict\n",
    "reader = csv.reader(open('dictionaries/dict_sorted_trackuri_id.csv', 'r'))\n",
    "dict_trackuri_ids = {k:v for (k,v) in reader}\n",
    "reader = csv.reader(open('dictionaries/dict_id_ntitle_final.csv', 'r',encoding=\"utf-8\"))\n",
    "dict_ntitle_id = {v:k for (k,v) in reader}\n",
    "reader = csv.reader(open('dictionaries/dict_id_ntitle_final.csv', 'r',encoding=\"utf-8\"))\n",
    "dict_id_ntitle = {k:v for (k,v) in reader}\n",
    "reader = csv.reader(open('dictionaries/dict_sorted_trackuri_id.csv', 'r'))\n",
    "MPD_ntitle_id = {k:[] for (k,v) in reader}\n",
    "\n",
    "\n",
    "\n",
    "def process_mpd(path):\n",
    "    count = 0 # slices counter   \n",
    "    filenames = os.listdir(path)\n",
    "    \n",
    "    #for each slice\n",
    "    for filename in tqdm_notebook(sorted(filenames)):\n",
    "        #read slice\n",
    "        if filename.startswith(\"mpd.slice.\") and filename.endswith(\".json\"):\n",
    "            fullpath = os.sep.join((path, filename))\n",
    "            f = open(fullpath)\n",
    "            js = f.read()\n",
    "            f.close()\n",
    "            mpd_slice = json.loads(js)\n",
    "\n",
    "            #process slice and write a csv\n",
    "            process_slice(mpd_slice)\n",
    "            count += 1              \n",
    "            \n",
    "\n",
    "        if quick and count > max_files_for_quick_processing:\n",
    "            break\n",
    "    write_file()\n",
    "                \n",
    "            \n",
    "def process_slice(mpd_slice):\n",
    "    for playlist in mpd_slice['playlists']:\n",
    "        ntitle_id = dict_ntitle_id[normalize_name(playlist['name'])]\n",
    "        for track in playlist[\"tracks\"]:\n",
    "            MPD_ntitle_id[track[\"track_uri\"]].append(ntitle_id)\n",
    "    \n",
    "    \n",
    "def write_file():  \n",
    "    if not os.path.exists(mpd_sequence_path):\n",
    "        os.makedirs(mpd_sequence_path)\n",
    "    with open(mpd_sequence_path + \"/ntitles_sentences_pid_final.txt\", \n",
    "              'w', newline='',encoding=\"utf-8\")as csvfile:\n",
    "        spamwriter = csv.writer(csvfile, delimiter=' ', quoting=csv.QUOTE_MINIMAL)\n",
    "        for trackuri in MPD_ntitle_id:\n",
    "            spamwriter.writerow(MPD_ntitle_id[trackuri])       \n",
    "\n",
    "\n",
    "\n",
    "process_mpd(mdp_path)"
   ]
  },
  {
   "cell_type": "markdown",
   "metadata": {},
   "source": [
    "## Artists"
   ]
  },
  {
   "cell_type": "code",
   "execution_count": null,
   "metadata": {
    "collapsed": true
   },
   "outputs": [],
   "source": [
    "size_slices = 50 \n",
    "#csv to dict\n",
    "reader = csv.reader(open('dictionaries/dict_artisturi_id.csv', 'r'))\n",
    "dict_artisturi_id = {k:v for (k,v) in reader}\n",
    "\n",
    "MPD_artist_id = dict()\n",
    "MPD_artist_id_unique = dict()\n",
    "\n",
    "\n",
    "def process_mpd(path):\n",
    "    count = 0 # slices counter   \n",
    "    filenames = os.listdir(path)\n",
    "    \n",
    "    #for each slice\n",
    "    for filename in tqdm_notebook(sorted(filenames)):\n",
    "        #read slice\n",
    "        if filename.startswith(\"mpd.slice.\") and filename.endswith(\".json\"):\n",
    "            fullpath = os.sep.join((path, filename))\n",
    "            f = open(fullpath)\n",
    "            js = f.read()\n",
    "            f.close()\n",
    "            mpd_slice = json.loads(js)\n",
    "\n",
    "            #process slice and write a csv\n",
    "            process_slice(mpd_slice)\n",
    "            count += 1\n",
    "            #if count%size_slices==0:\n",
    "            #if count%1==0:              \n",
    "            \n",
    "\n",
    "        if quick and count > max_files_for_quick_processing:\n",
    "            break\n",
    "    write_file()\n",
    "                \n",
    "        \n",
    "        \n",
    "def process_slice(mpd_slice):\n",
    "    for playlist in mpd_slice['playlists']:\n",
    "        artists = [dict_artisturi_id[track[\"artist_uri\"]] for track in playlist[\"tracks\"]]\n",
    "        MPD_artist_id[playlist[\"pid\"]] = artists\n",
    "        MPD_artist_id_unique[playlist[\"pid\"]] = list(set(artists)) #delete repeated artists\n",
    "        \n",
    "    \n",
    "def write_file():  \n",
    "    with open(\"artists_sentences_pid.txt\", \n",
    "              'w', newline='',encoding=\"utf-8\")as csvfile:\n",
    "        spamwriter = csv.writer(csvfile, delimiter=' ', quoting=csv.QUOTE_MINIMAL)\n",
    "        for uri in MPD_artist_id:\n",
    "            spamwriter.writerow(MPD_artist_id[uri])   \n",
    "    \n",
    "    with open(\"artists_sentences_pid_unique.txt\", \n",
    "              'w', newline='',encoding=\"utf-8\")as csvfile:\n",
    "        spamwriter = csv.writer(csvfile, delimiter=' ', quoting=csv.QUOTE_MINIMAL)\n",
    "        for uri in MPD_artist_id_unique:\n",
    "            spamwriter.writerow(MPD_artist_id_unique[uri]) \n",
    "\n",
    "\n",
    "\n",
    "process_mpd(mdp_path)"
   ]
  },
  {
   "cell_type": "markdown",
   "metadata": {},
   "source": [
    "## Albums"
   ]
  },
  {
   "cell_type": "code",
   "execution_count": null,
   "metadata": {
    "collapsed": true
   },
   "outputs": [],
   "source": [
    "size_slices = 50 \n",
    "#csv to dict\n",
    "reader = csv.reader(open('dictionaries/dict_albumuri_id.csv', 'r'))\n",
    "dict_albumuri_id = {k:v for (k,v) in reader}\n",
    "reader = csv.reader(open('dictionaries/dict_albumuri_id.csv', 'r'))\n",
    "MPD_album_id = dict()\n",
    "MPD_album_id_unique = dict()\n",
    "\n",
    "def process_mpd(path):\n",
    "    count = 0 # slices counter   \n",
    "    filenames = os.listdir(path)\n",
    "    \n",
    "    #for each slice\n",
    "    for filename in tqdm_notebook(sorted(filenames)):\n",
    "        #read slice\n",
    "        if filename.startswith(\"mpd.slice.\") and filename.endswith(\".json\"):\n",
    "            fullpath = os.sep.join((path, filename))\n",
    "            f = open(fullpath)\n",
    "            js = f.read()\n",
    "            f.close()\n",
    "            mpd_slice = json.loads(js)\n",
    "\n",
    "            #process slice and write a csv\n",
    "            process_slice(mpd_slice)\n",
    "            count += 1\n",
    "            #if count%size_slices==0:\n",
    "            #if count%1==0:              \n",
    "            \n",
    "\n",
    "        if quick and count > max_files_for_quick_processing:\n",
    "            break\n",
    "    write_file()\n",
    "                \n",
    "        \n",
    "        \n",
    "def process_slice(mpd_slice):\n",
    "    for playlist in mpd_slice['playlists']:\n",
    "        albums = [dict_albumuri_id[track[\"album_uri\"]] for track in playlist[\"tracks\"]]\n",
    "        MPD_album_id[playlist[\"pid\"]] = albums\n",
    "        MPD_album_id_unique[playlist[\"pid\"]] = list(set(albums))\n",
    "        \n",
    "    \n",
    "def write_file():  \n",
    "    with open(\"albums_sentences_id.txt\", \n",
    "              'w', newline='',encoding=\"utf-8\")as csvfile:\n",
    "        spamwriter = csv.writer(csvfile, delimiter=' ', quoting=csv.QUOTE_MINIMAL)\n",
    "        for uri in MPD_album_id:\n",
    "            spamwriter.writerow(MPD_album_id[uri])    \n",
    "             \n",
    "    with open(\"albums_sentences_id_unique.txt\", \n",
    "              'w', newline='',encoding=\"utf-8\")as csvfile:\n",
    "        spamwriter = csv.writer(csvfile, delimiter=' ', quoting=csv.QUOTE_MINIMAL)\n",
    "        for uri in MPD_album_id_unique:\n",
    "            spamwriter.writerow(MPD_album_id_unique[uri]) \n",
    "\n",
    "\n",
    "\n",
    "process_mpd(mdp_path)"
   ]
  }
 ],
 "metadata": {
  "kernelspec": {
   "display_name": "Python 3",
   "language": "python",
   "name": "python3"
  },
  "language_info": {
   "codemirror_mode": {
    "name": "ipython",
    "version": 3
   },
   "file_extension": ".py",
   "mimetype": "text/x-python",
   "name": "python",
   "nbconvert_exporter": "python",
   "pygments_lexer": "ipython3",
   "version": "3.6.1"
  }
 },
 "nbformat": 4,
 "nbformat_minor": 2
}
