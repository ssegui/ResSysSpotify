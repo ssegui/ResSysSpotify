{
 "cells": [
  {
   "cell_type": "markdown",
   "metadata": {},
   "source": [
    "# Tracks embbeding"
   ]
  },
  {
   "cell_type": "code",
   "execution_count": 1,
   "metadata": {
    "collapsed": true
   },
   "outputs": [],
   "source": [
    "import csv\n",
    "import pandas as pd\n",
    "import gensim\n",
    "import os\n",
    "import numpy as np\n",
    "import sys\n",
    "from tqdm import tqdm_notebook\n",
    "import json\n",
    "from gensim.models import Word2Vec\n",
    "import time\n",
    "from sklearn.manifold import TSNE\n",
    "from matplotlib import pyplot as plt\n",
    "from glob import glob\n",
    "import random"
   ]
  },
  {
   "cell_type": "code",
   "execution_count": 2,
   "metadata": {
    "collapsed": true
   },
   "outputs": [],
   "source": [
    "sentences = [p.split() for p in open(\"MPD_line_sentence/tracks_sentences_id.txt\").read().splitlines()]"
   ]
  },
  {
   "cell_type": "code",
   "execution_count": 3,
   "metadata": {},
   "outputs": [
    {
     "data": {
      "text/plain": [
       "'# make model \\nMODEL_SIZE = 300\\nEPOCHS = 1\\nWINDOW = 5 \\nMIN_COUNT = 5\\nlr = 50\\nNUM_FILES = 1000\\nname = \"wv_model_mincount5_shuffle_size\"+str(MODEL_SIZE)+\"_MPD\"\\n\\n\\ntic = time.clock()\\nmodel = Word2Vec(sg=1, size=MODEL_SIZE, min_count=MIN_COUNT, window=WINDOW,compute_loss=True)\\nmodel.build_vocab(sentences)\\nprint(time.clock()-tic)'"
      ]
     },
     "execution_count": 3,
     "metadata": {},
     "output_type": "execute_result"
    }
   ],
   "source": [
    "# make model \n",
    "MODEL_SIZE = 300\n",
    "EPOCHS = 1\n",
    "WINDOW = 5 \n",
    "MIN_COUNT = 5\n",
    "lr = 50\n",
    "NUM_FILES = 1000\n",
    "name = \"wv_model_mincount5_shuffle_size\"+str(MODEL_SIZE)+\"_MPD\"\n",
    "\n",
    "model = Word2Vec(sg=1, size=MODEL_SIZE, min_count=MIN_COUNT, window=WINDOW,compute_loss=True)\n",
    "model.build_vocab(sentences)\n",
    "\n",
    "if not os.path.exists(\"models\"):\n",
    "    os.makedirs(\"models\")"
   ]
  },
  {
   "cell_type": "code",
   "execution_count": null,
   "metadata": {
    "collapsed": true
   },
   "outputs": [],
   "source": [
    "# or charge it \n",
    "\"\"\"\n",
    "model = Word2Vec.load(\"models/wv_model_mincount5_shuffle_size300_MPD\")\n",
    "MODEL_SIZE = 300\n",
    "EPOCHS = 1\n",
    "WINDOW = 5 \n",
    "MIN_COUNT = 5\n",
    "lr = 70\n",
    "NUM_FILES = 1000\n",
    "name = \"wv_model_mincount5_shuffle_size300_MPD\"\n",
    "\"\"\""
   ]
  },
  {
   "cell_type": "code",
   "execution_count": null,
   "metadata": {},
   "outputs": [],
   "source": [
    "print(\"training..\")\n",
    "for iter in range(10000):# train\n",
    "           \n",
    "    model.train(sentences, total_examples=model.corpus_count, epochs=EPOCHS,compute_loss=True)\n",
    "    [random.shuffle(l) for l in sentences]\n",
    "               \n",
    "    if(iter%10==0 and iter>0):\n",
    "        # save model\n",
    "        model.save(\"models/\"+name)\n",
    "        print(\"model \"+name+\" saved \") \n",
    "        \n",
    "    print(model.get_latest_training_loss(),lr)\n",
    "         "
   ]
  }
 ],
 "metadata": {
  "kernelspec": {
   "display_name": "Python 3",
   "language": "python",
   "name": "python3"
  },
  "language_info": {
   "codemirror_mode": {
    "name": "ipython",
    "version": 3
   },
   "file_extension": ".py",
   "mimetype": "text/x-python",
   "name": "python",
   "nbconvert_exporter": "python",
   "pygments_lexer": "ipython3",
   "version": "3.6.1"
  }
 },
 "nbformat": 4,
 "nbformat_minor": 2
}
