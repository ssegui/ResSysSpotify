{
 "cells": [
  {
   "cell_type": "markdown",
   "metadata": {
    "collapsed": true
   },
   "source": [
    "# Titles embbeding"
   ]
  },
  {
   "cell_type": "code",
   "execution_count": null,
   "metadata": {
    "collapsed": true
   },
   "outputs": [],
   "source": [
    "import csv\n",
    "import pandas as pd\n",
    "import gensim\n",
    "import os\n",
    "import numpy as np\n",
    "import sys\n",
    "from tqdm import tqdm_notebook\n",
    "import json\n",
    "from gensim.models import Word2Vec\n",
    "import time\n",
    "from sklearn.manifold import TSNE\n",
    "from matplotlib import pyplot as plt\n",
    "from glob import glob\n",
    "import random"
   ]
  },
  {
   "cell_type": "code",
   "execution_count": null,
   "metadata": {},
   "outputs": [],
   "source": [
    "mpd_sequence_path = 'mpd_playlist_track_seq/' #DEFINE YOUR PATH TO OUTPUT PLAYLIST TRACK ID sequences\n",
    "\n",
    "sentences = [p.split() for p in open(mpd_playlist_track_seq+\"/ntitles_sentences_pid_final.txt\").read().splitlines()]"
   ]
  },
  {
   "cell_type": "code",
   "execution_count": null,
   "metadata": {
    "collapsed": true
   },
   "outputs": [],
   "source": [
    "# make model \n",
    "MODEL_SIZE = 100\n",
    "EPOCHS = 1\n",
    "WINDOW = 5 \n",
    "MIN_COUNT = 0\n",
    "lr = 50\n",
    "name = \"wv_model_titles_MPD_final\"\n",
    "\n",
    "model = Word2Vec(sg=1, size=MODEL_SIZE, min_count=MIN_COUNT, window=WINDOW,compute_loss=True)\n",
    "model.build_vocab(sentences)\n",
    "if not os.path.exists(\"models\"):\n",
    "    os.makedirs(\"models\")"
   ]
  },
  {
   "cell_type": "code",
   "execution_count": null,
   "metadata": {},
   "outputs": [],
   "source": [
    "# uncomment if you want to load a previous model \n",
    "\"\"\"\n",
    "name = \"wv_model_titles_MPD_final\"\n",
    "model = Word2Vec.load(\"models/wv_model_titles_MPD_final\")\n",
    "MODEL_SIZE = 100\n",
    "EPOCHS = 1\n",
    "WINDOW = 5 \n",
    "MIN_COUNT = 0\n",
    "lr = 50\n",
    "\"\"\""
   ]
  },
  {
   "cell_type": "code",
   "execution_count": null,
   "metadata": {
    "collapsed": true
   },
   "outputs": [],
   "source": [
    "# train \n",
    "print(\"training..\")\n",
    "for iter in range(10000):# train\n",
    "        \n",
    "    model.train(sentences, total_examples=model.corpus_count, epochs=EPOCHS,compute_loss=True)\n",
    "    [random.shuffle(l) for l in sentences]\n",
    "        \n",
    "    if(iter%10==0 and iter>0):\n",
    "        model.save(\"models/wv_model_titles_MPD_final\")\n",
    "        print(name+\" saved \")\n",
    "   \n",
    "    print(model.get_latest_training_loss(),lr)       "
   ]
  },
  {
   "cell_type": "code",
   "execution_count": null,
   "metadata": {
    "collapsed": true
   },
   "outputs": [],
   "source": []
  }
 ],
 "metadata": {
  "kernelspec": {
   "display_name": "Python 3",
   "language": "python",
   "name": "python3"
  },
  "language_info": {
   "codemirror_mode": {
    "name": "ipython",
    "version": 3
   },
   "file_extension": ".py",
   "mimetype": "text/x-python",
   "name": "python",
   "nbconvert_exporter": "python",
   "pygments_lexer": "ipython3",
   "version": "3.6.1"
  }
 },
 "nbformat": 4,
 "nbformat_minor": 2
}
