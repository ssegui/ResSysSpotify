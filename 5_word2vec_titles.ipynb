{
 "cells": [
  {
   "cell_type": "markdown",
   "metadata": {
    "collapsed": true
   },
   "source": [
    "# Titles embbeding"
   ]
  },
  {
   "cell_type": "code",
   "execution_count": 1,
   "metadata": {
    "collapsed": true
   },
   "outputs": [],
   "source": [
    "import csv\n",
    "import pandas as pd\n",
    "import gensim\n",
    "import os\n",
    "import numpy as np\n",
    "import sys\n",
    "from tqdm import tqdm_notebook\n",
    "import json\n",
    "from gensim.models import Word2Vec\n",
    "import time\n",
    "from sklearn.manifold import TSNE\n",
    "from matplotlib import pyplot as plt\n",
    "from glob import glob\n",
    "import random"
   ]
  },
  {
   "cell_type": "code",
   "execution_count": 3,
   "metadata": {},
   "outputs": [],
   "source": [
    "mpd_sequence_path = 'mpd_playlist_track_seq/' #DEFINE YOUR PATH TO OUTPUT PLAYLIST TRACK ID sequences\n",
    "\n",
    "sentences = [p.split() for p in open(mpd_sequence_path+\"/ntitles_sentences_pid_final.txt\").read().splitlines()]"
   ]
  },
  {
   "cell_type": "code",
   "execution_count": 4,
   "metadata": {
    "collapsed": true
   },
   "outputs": [],
   "source": [
    "# make model \n",
    "MODEL_SIZE = 100\n",
    "EPOCHS = 1\n",
    "WINDOW = 5 \n",
    "MIN_COUNT = 0\n",
    "lr = 50\n",
    "name = \"wv_model_titles_MPD_final\"\n",
    "\n",
    "model = Word2Vec(sg=1, size=MODEL_SIZE, min_count=MIN_COUNT, window=WINDOW,compute_loss=True)\n",
    "model.build_vocab(sentences)\n",
    "if not os.path.exists(\"models\"):\n",
    "    os.makedirs(\"models\")"
   ]
  },
  {
   "cell_type": "code",
   "execution_count": null,
   "metadata": {},
   "outputs": [
    {
     "data": {
      "text/plain": [
       "'\\nname = \"wv_model_titles_MPD_final\"\\nmodel = Word2Vec.load(\"models/wv_model_titles_MPD_final\")\\nMODEL_SIZE = 100\\nEPOCHS = 1\\nWINDOW = 5 \\nMIN_COUNT = 0\\nlr = 50\\n'"
      ]
     },
     "execution_count": 5,
     "metadata": {},
     "output_type": "execute_result"
    }
   ],
   "source": [
    "# uncomment if you want to load a previous model \n",
    "\"\"\"\n",
    "name = \"wv_model_titles_MPD_final\"\n",
    "model = Word2Vec.load(\"models/wv_model_titles_MPD_final\")\n",
    "MODEL_SIZE = 100\n",
    "EPOCHS = 1\n",
    "WINDOW = 5 \n",
    "MIN_COUNT = 0\n",
    "lr = 50\n",
    "\"\"\""
   ]
  },
  {
   "cell_type": "code",
   "execution_count": null,
   "metadata": {},
   "outputs": [
    {
     "name": "stdout",
     "output_type": "stream",
     "text": [
      "training..\n",
      "69726072.0 50\n",
      "69730616.0 50\n",
      "69744152.0 50\n",
      "69790072.0 50\n",
      "69762456.0 50\n",
      "69773768.0 50\n",
      "69772176.0 50\n",
      "69792880.0 50\n",
      "69795568.0 50\n",
      "69782336.0 50\n",
      "wv_model_titles_MPD_final saved \n",
      "69790712.0 50\n",
      "69770624.0 50\n",
      "69800976.0 50\n",
      "69798728.0 50\n",
      "69785656.0 50\n",
      "69793984.0 50\n",
      "69789768.0 50\n",
      "69794232.0 50\n",
      "69797824.0 50\n",
      "69788168.0 50\n",
      "wv_model_titles_MPD_final saved \n",
      "69804816.0 50\n",
      "69801472.0 50\n",
      "69803832.0 50\n",
      "69802824.0 50\n",
      "69815432.0 50\n",
      "69778144.0 50\n",
      "69805912.0 50\n"
     ]
    }
   ],
   "source": [
    "# train \n",
    "print(\"training..\")\n",
    "for iter in range(10000):# train\n",
    "        \n",
    "    model.train(sentences, total_examples=model.corpus_count, epochs=EPOCHS,compute_loss=True)\n",
    "    [random.shuffle(l) for l in sentences]\n",
    "        \n",
    "    if(iter%10==0 and iter>0):\n",
    "        model.save(\"models/wv_model_titles_MPD_final\")\n",
    "        print(name+\" saved \")\n",
    "   \n",
    "    print(model.get_latest_training_loss(),lr)       "
   ]
  },
  {
   "cell_type": "code",
   "execution_count": null,
   "metadata": {
    "collapsed": true
   },
   "outputs": [],
   "source": []
  },
  {
   "cell_type": "code",
   "execution_count": null,
   "metadata": {
    "collapsed": true
   },
   "outputs": [],
   "source": []
  }
 ],
 "metadata": {
  "kernelspec": {
   "display_name": "Python 3",
   "language": "python",
   "name": "python3"
  },
  "language_info": {
   "codemirror_mode": {
    "name": "ipython",
    "version": 3
   },
   "file_extension": ".py",
   "mimetype": "text/x-python",
   "name": "python",
   "nbconvert_exporter": "python",
   "pygments_lexer": "ipython3",
   "version": "3.6.1"
  }
 },
 "nbformat": 4,
 "nbformat_minor": 2
}
